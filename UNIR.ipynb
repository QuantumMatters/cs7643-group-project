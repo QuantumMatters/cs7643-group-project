{
  "nbformat": 4,
  "nbformat_minor": 0,
  "metadata": {
    "colab": {
      "name": "UNIR.ipynb",
      "provenance": [],
      "collapsed_sections": []
    },
    "kernelspec": {
      "name": "python3",
      "display_name": "Python 3"
    },
    "language_info": {
      "name": "python"
    },
    "accelerator": "GPU"
  },
  "cells": [
    {
      "cell_type": "markdown",
      "source": [
        "# UNIR: Unsupervised Adversarial Image Reconstruction\n",
        "This notebook is meant to show to to setup an environment and run the UNIR program."
      ],
      "metadata": {
        "id": "sZEikGaVur0-"
      }
    },
    {
      "cell_type": "code",
      "execution_count": 1,
      "metadata": {
        "id": "in1AIkIF8FDK",
        "colab": {
          "base_uri": "https://localhost:8080/"
        },
        "outputId": "2938dbf1-a4ca-4809-ae10-58137da137ba"
      },
      "outputs": [
        {
          "output_type": "stream",
          "name": "stdout",
          "text": [
            "Drive already mounted at /content/drive/; to attempt to forcibly remount, call drive.mount(\"/content/drive/\", force_remount=True).\n"
          ]
        }
      ],
      "source": [
        "# Mount Google Drive\n",
        "\n",
        "from google.colab import drive\n",
        "\n",
        "drive.mount(\"/content/drive/\")"
      ]
    },
    {
      "cell_type": "markdown",
      "source": [
        "## Local Approach\n",
        "move data from Google Drive to GCE, then run UNIR in GCE.\n",
        "\n",
        "possibly faster than running out of Drive directly"
      ],
      "metadata": {
        "id": "NenGOs6buZzT"
      }
    },
    {
      "cell_type": "code",
      "source": [
        "# copy UNIR over from Google Drive into GCE if not already (warning: slow)\n",
        "! [ ! -d \"UNIR\" ] && cp -r /content/drive/MyDrive/CS7643-GroupProject/UNIR .\n",
        "\n",
        "%cd UNIR\n",
        "\n",
        "!pip install -r requirements.txt"
      ],
      "metadata": {
        "id": "ZTDyKyGGuUHx"
      },
      "execution_count": null,
      "outputs": []
    },
    {
      "cell_type": "markdown",
      "source": [
        "## Remote Approach\n",
        "read/write data to Google Drive"
      ],
      "metadata": {
        "id": "dup1KAPJufA5"
      }
    },
    {
      "cell_type": "code",
      "source": [
        "# %cd '/content/drive/MyDrive/CS7643-GroupProject/UNIR'\n",
        "\n",
        "# Install dependencies\n",
        "# !pip install -r requirements.txt\n",
        "\n",
        "# Verify paths to dataset (check line 19 in UNIR/unir/factory/dataset.py)\n",
        "# !ls /content/drive/MyDrive/CS7643-GroupProject/UNIR/data/img_align_celeba/img_align_celeba | wc -l\n",
        "\n",
        "# Setup for GPU by default--for CPU, set line 42 of main.py to `device = \"cpu\"`"
      ],
      "metadata": {
        "id": "8lychy4StwYh"
      },
      "execution_count": 3,
      "outputs": []
    },
    {
      "cell_type": "code",
      "source": [
        "# WARNING: do not run at this time, you will overwrite the model weights. I'll fix it in a few hours (Kasey)\n",
        "!python main.py"
      ],
      "metadata": {
        "id": "MCun5ujeGj2m"
      },
      "execution_count": null,
      "outputs": []
    },
    {
      "cell_type": "code",
      "source": [
        "!cp -r experiments /content/drive/MyDrive/CS7643-GroupProject/UNIR\n",
        "!cp unir.zip /content/drive/MyDrive/CS7643-GroupProject/UNIR"
      ],
      "metadata": {
        "id": "2C1ryFMwz3An"
      },
      "execution_count": 8,
      "outputs": []
    },
    {
      "cell_type": "code",
      "source": [
        ""
      ],
      "metadata": {
        "id": "CWGzhkFjfM-k"
      },
      "execution_count": null,
      "outputs": []
    }
  ]
}